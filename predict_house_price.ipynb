{
  "nbformat": 4,
  "nbformat_minor": 0,
  "metadata": {
    "colab": {
      "name": "predict-house-price.ipynb",
      "provenance": []
    },
    "kernelspec": {
      "name": "python3",
      "display_name": "Python 3"
    },
    "language_info": {
      "name": "python"
    }
  },
  "cells": [
    {
      "cell_type": "code",
      "metadata": {
        "id": "JSfH4_ZEdSKf"
      },
      "source": [
        "import pandas as pd"
      ],
      "execution_count": 1,
      "outputs": []
    },
    {
      "cell_type": "code",
      "metadata": {
        "id": "8mg_ftQRdkMY"
      },
      "source": [
        "df = pd.read_csv('housepricedata.csv')"
      ],
      "execution_count": 3,
      "outputs": []
    },
    {
      "cell_type": "code",
      "metadata": {
        "colab": {
          "base_uri": "https://localhost:8080/",
          "height": 422
        },
        "id": "KSz6bvcne8wc",
        "outputId": "22398b94-c088-4791-d808-6b74b0e739ee"
      },
      "source": [
        "df"
      ],
      "execution_count": 4,
      "outputs": [
        {
          "output_type": "execute_result",
          "data": {
            "text/html": [
              "<div>\n",
              "<style scoped>\n",
              "    .dataframe tbody tr th:only-of-type {\n",
              "        vertical-align: middle;\n",
              "    }\n",
              "\n",
              "    .dataframe tbody tr th {\n",
              "        vertical-align: top;\n",
              "    }\n",
              "\n",
              "    .dataframe thead th {\n",
              "        text-align: right;\n",
              "    }\n",
              "</style>\n",
              "<table border=\"1\" class=\"dataframe\">\n",
              "  <thead>\n",
              "    <tr style=\"text-align: right;\">\n",
              "      <th></th>\n",
              "      <th>LotArea</th>\n",
              "      <th>OverallQual</th>\n",
              "      <th>OverallCond</th>\n",
              "      <th>TotalBsmtSF</th>\n",
              "      <th>FullBath</th>\n",
              "      <th>HalfBath</th>\n",
              "      <th>BedroomAbvGr</th>\n",
              "      <th>TotRmsAbvGrd</th>\n",
              "      <th>Fireplaces</th>\n",
              "      <th>GarageArea</th>\n",
              "      <th>AboveMedianPrice</th>\n",
              "    </tr>\n",
              "  </thead>\n",
              "  <tbody>\n",
              "    <tr>\n",
              "      <th>0</th>\n",
              "      <td>8450</td>\n",
              "      <td>7</td>\n",
              "      <td>5</td>\n",
              "      <td>856</td>\n",
              "      <td>2</td>\n",
              "      <td>1</td>\n",
              "      <td>3</td>\n",
              "      <td>8</td>\n",
              "      <td>0</td>\n",
              "      <td>548</td>\n",
              "      <td>1</td>\n",
              "    </tr>\n",
              "    <tr>\n",
              "      <th>1</th>\n",
              "      <td>9600</td>\n",
              "      <td>6</td>\n",
              "      <td>8</td>\n",
              "      <td>1262</td>\n",
              "      <td>2</td>\n",
              "      <td>0</td>\n",
              "      <td>3</td>\n",
              "      <td>6</td>\n",
              "      <td>1</td>\n",
              "      <td>460</td>\n",
              "      <td>1</td>\n",
              "    </tr>\n",
              "    <tr>\n",
              "      <th>2</th>\n",
              "      <td>11250</td>\n",
              "      <td>7</td>\n",
              "      <td>5</td>\n",
              "      <td>920</td>\n",
              "      <td>2</td>\n",
              "      <td>1</td>\n",
              "      <td>3</td>\n",
              "      <td>6</td>\n",
              "      <td>1</td>\n",
              "      <td>608</td>\n",
              "      <td>1</td>\n",
              "    </tr>\n",
              "    <tr>\n",
              "      <th>3</th>\n",
              "      <td>9550</td>\n",
              "      <td>7</td>\n",
              "      <td>5</td>\n",
              "      <td>756</td>\n",
              "      <td>1</td>\n",
              "      <td>0</td>\n",
              "      <td>3</td>\n",
              "      <td>7</td>\n",
              "      <td>1</td>\n",
              "      <td>642</td>\n",
              "      <td>0</td>\n",
              "    </tr>\n",
              "    <tr>\n",
              "      <th>4</th>\n",
              "      <td>14260</td>\n",
              "      <td>8</td>\n",
              "      <td>5</td>\n",
              "      <td>1145</td>\n",
              "      <td>2</td>\n",
              "      <td>1</td>\n",
              "      <td>4</td>\n",
              "      <td>9</td>\n",
              "      <td>1</td>\n",
              "      <td>836</td>\n",
              "      <td>1</td>\n",
              "    </tr>\n",
              "    <tr>\n",
              "      <th>...</th>\n",
              "      <td>...</td>\n",
              "      <td>...</td>\n",
              "      <td>...</td>\n",
              "      <td>...</td>\n",
              "      <td>...</td>\n",
              "      <td>...</td>\n",
              "      <td>...</td>\n",
              "      <td>...</td>\n",
              "      <td>...</td>\n",
              "      <td>...</td>\n",
              "      <td>...</td>\n",
              "    </tr>\n",
              "    <tr>\n",
              "      <th>1455</th>\n",
              "      <td>7917</td>\n",
              "      <td>6</td>\n",
              "      <td>5</td>\n",
              "      <td>953</td>\n",
              "      <td>2</td>\n",
              "      <td>1</td>\n",
              "      <td>3</td>\n",
              "      <td>7</td>\n",
              "      <td>1</td>\n",
              "      <td>460</td>\n",
              "      <td>1</td>\n",
              "    </tr>\n",
              "    <tr>\n",
              "      <th>1456</th>\n",
              "      <td>13175</td>\n",
              "      <td>6</td>\n",
              "      <td>6</td>\n",
              "      <td>1542</td>\n",
              "      <td>2</td>\n",
              "      <td>0</td>\n",
              "      <td>3</td>\n",
              "      <td>7</td>\n",
              "      <td>2</td>\n",
              "      <td>500</td>\n",
              "      <td>1</td>\n",
              "    </tr>\n",
              "    <tr>\n",
              "      <th>1457</th>\n",
              "      <td>9042</td>\n",
              "      <td>7</td>\n",
              "      <td>9</td>\n",
              "      <td>1152</td>\n",
              "      <td>2</td>\n",
              "      <td>0</td>\n",
              "      <td>4</td>\n",
              "      <td>9</td>\n",
              "      <td>2</td>\n",
              "      <td>252</td>\n",
              "      <td>1</td>\n",
              "    </tr>\n",
              "    <tr>\n",
              "      <th>1458</th>\n",
              "      <td>9717</td>\n",
              "      <td>5</td>\n",
              "      <td>6</td>\n",
              "      <td>1078</td>\n",
              "      <td>1</td>\n",
              "      <td>0</td>\n",
              "      <td>2</td>\n",
              "      <td>5</td>\n",
              "      <td>0</td>\n",
              "      <td>240</td>\n",
              "      <td>0</td>\n",
              "    </tr>\n",
              "    <tr>\n",
              "      <th>1459</th>\n",
              "      <td>9937</td>\n",
              "      <td>5</td>\n",
              "      <td>6</td>\n",
              "      <td>1256</td>\n",
              "      <td>1</td>\n",
              "      <td>1</td>\n",
              "      <td>3</td>\n",
              "      <td>6</td>\n",
              "      <td>0</td>\n",
              "      <td>276</td>\n",
              "      <td>0</td>\n",
              "    </tr>\n",
              "  </tbody>\n",
              "</table>\n",
              "<p>1460 rows × 11 columns</p>\n",
              "</div>"
            ],
            "text/plain": [
              "      LotArea  OverallQual  ...  GarageArea  AboveMedianPrice\n",
              "0        8450            7  ...         548                 1\n",
              "1        9600            6  ...         460                 1\n",
              "2       11250            7  ...         608                 1\n",
              "3        9550            7  ...         642                 0\n",
              "4       14260            8  ...         836                 1\n",
              "...       ...          ...  ...         ...               ...\n",
              "1455     7917            6  ...         460                 1\n",
              "1456    13175            6  ...         500                 1\n",
              "1457     9042            7  ...         252                 1\n",
              "1458     9717            5  ...         240                 0\n",
              "1459     9937            5  ...         276                 0\n",
              "\n",
              "[1460 rows x 11 columns]"
            ]
          },
          "metadata": {
            "tags": []
          },
          "execution_count": 4
        }
      ]
    },
    {
      "cell_type": "code",
      "metadata": {
        "id": "sM8ClIbAfQUj"
      },
      "source": [
        "dataset = df.values"
      ],
      "execution_count": 5,
      "outputs": []
    },
    {
      "cell_type": "code",
      "metadata": {
        "colab": {
          "base_uri": "https://localhost:8080/"
        },
        "id": "uyM60NsMfeAB",
        "outputId": "36e52b0f-b5ed-4403-c85f-5525739c7ed5"
      },
      "source": [
        "dataset"
      ],
      "execution_count": 6,
      "outputs": [
        {
          "output_type": "execute_result",
          "data": {
            "text/plain": [
              "array([[ 8450,     7,     5, ...,     0,   548,     1],\n",
              "       [ 9600,     6,     8, ...,     1,   460,     1],\n",
              "       [11250,     7,     5, ...,     1,   608,     1],\n",
              "       ...,\n",
              "       [ 9042,     7,     9, ...,     2,   252,     1],\n",
              "       [ 9717,     5,     6, ...,     0,   240,     0],\n",
              "       [ 9937,     5,     6, ...,     0,   276,     0]])"
            ]
          },
          "metadata": {
            "tags": []
          },
          "execution_count": 6
        }
      ]
    },
    {
      "cell_type": "code",
      "metadata": {
        "id": "PJBtvZv0fg5x"
      },
      "source": [
        "X = dataset[:,0:10]\n",
        "Y = dataset[:,10]"
      ],
      "execution_count": 8,
      "outputs": []
    },
    {
      "cell_type": "code",
      "metadata": {
        "id": "h4Rflh4Ifjl2"
      },
      "source": [
        "from sklearn import preprocessing"
      ],
      "execution_count": 9,
      "outputs": []
    },
    {
      "cell_type": "code",
      "metadata": {
        "id": "quPlLtxnfsoh"
      },
      "source": [
        "min_max_scaler = preprocessing.MinMaxScaler()\n",
        "X_scale = min_max_scaler.fit_transform(X)"
      ],
      "execution_count": 10,
      "outputs": []
    },
    {
      "cell_type": "code",
      "metadata": {
        "colab": {
          "base_uri": "https://localhost:8080/"
        },
        "id": "ve8LLJdWfvqn",
        "outputId": "0b4325cf-ab4d-43c2-a2ca-fb5514107acb"
      },
      "source": [
        "X_scale"
      ],
      "execution_count": 11,
      "outputs": [
        {
          "output_type": "execute_result",
          "data": {
            "text/plain": [
              "array([[0.0334198 , 0.66666667, 0.5       , ..., 0.5       , 0.        ,\n",
              "        0.3864598 ],\n",
              "       [0.03879502, 0.55555556, 0.875     , ..., 0.33333333, 0.33333333,\n",
              "        0.32440056],\n",
              "       [0.04650728, 0.66666667, 0.5       , ..., 0.33333333, 0.33333333,\n",
              "        0.42877292],\n",
              "       ...,\n",
              "       [0.03618687, 0.66666667, 1.        , ..., 0.58333333, 0.66666667,\n",
              "        0.17771509],\n",
              "       [0.03934189, 0.44444444, 0.625     , ..., 0.25      , 0.        ,\n",
              "        0.16925247],\n",
              "       [0.04037019, 0.44444444, 0.625     , ..., 0.33333333, 0.        ,\n",
              "        0.19464034]])"
            ]
          },
          "metadata": {
            "tags": []
          },
          "execution_count": 11
        }
      ]
    },
    {
      "cell_type": "code",
      "metadata": {
        "id": "ZHMIy92kfxlO"
      },
      "source": [
        "from sklearn.model_selection import train_test_split"
      ],
      "execution_count": 12,
      "outputs": []
    },
    {
      "cell_type": "code",
      "metadata": {
        "id": "hn8vclaBf1GU"
      },
      "source": [
        "X_train, X_val_and_test, Y_train, Y_val_and_test = train_test_split(X_scale, Y, test_size=0.3)"
      ],
      "execution_count": 13,
      "outputs": []
    },
    {
      "cell_type": "code",
      "metadata": {
        "id": "jHUnTqxSf3aR"
      },
      "source": [
        "X_val, X_test, Y_val, Y_test = train_test_split(X_val_and_test, Y_val_and_test, test_size=0.5)"
      ],
      "execution_count": 14,
      "outputs": []
    },
    {
      "cell_type": "code",
      "metadata": {
        "colab": {
          "base_uri": "https://localhost:8080/"
        },
        "id": "Btm-dLR2f7uN",
        "outputId": "92469b43-64bb-4b28-ef5a-8d28a8701568"
      },
      "source": [
        "print(X_train.shape, X_val.shape, X_test.shape, Y_train.shape, Y_val.shape, Y_test.shape)"
      ],
      "execution_count": 15,
      "outputs": [
        {
          "output_type": "stream",
          "text": [
            "(1022, 10) (219, 10) (219, 10) (1022,) (219,) (219,)\n"
          ],
          "name": "stdout"
        }
      ]
    },
    {
      "cell_type": "code",
      "metadata": {
        "id": "OoqSclzMf-zM"
      },
      "source": [
        "from keras.models import Sequential\n",
        "from keras.layers import Dense"
      ],
      "execution_count": 16,
      "outputs": []
    },
    {
      "cell_type": "code",
      "metadata": {
        "id": "DG4jqGRbgLc7"
      },
      "source": [
        "model = Sequential([\n",
        "    Dense(32, activation='relu', input_shape=(10,)),\n",
        "    Dense(32, activation='relu'),\n",
        "    Dense(1, activation='sigmoid'),\n",
        "])"
      ],
      "execution_count": 17,
      "outputs": []
    },
    {
      "cell_type": "code",
      "metadata": {
        "id": "iyGwYDmigQog"
      },
      "source": [
        "model.compile(optimizer='sgd',\n",
        "              loss='binary_crossentropy',\n",
        "              metrics=['accuracy'])"
      ],
      "execution_count": 18,
      "outputs": []
    },
    {
      "cell_type": "code",
      "metadata": {
        "colab": {
          "base_uri": "https://localhost:8080/"
        },
        "id": "6iO5jIJxgTCS",
        "outputId": "2ea7893b-cdce-4b92-a2b4-cbf89ae72901"
      },
      "source": [
        "hist = model.fit(X_train, Y_train,\n",
        "          batch_size=32, epochs=100,\n",
        "          validation_data=(X_val, Y_val))"
      ],
      "execution_count": 19,
      "outputs": [
        {
          "output_type": "stream",
          "text": [
            "Epoch 1/100\n",
            "32/32 [==============================] - 1s 15ms/step - loss: 0.6747 - accuracy: 0.6640 - val_loss: 0.6634 - val_accuracy: 0.6941\n",
            "Epoch 2/100\n",
            "32/32 [==============================] - 0s 2ms/step - loss: 0.6659 - accuracy: 0.6693 - val_loss: 0.6557 - val_accuracy: 0.7078\n",
            "Epoch 3/100\n",
            "32/32 [==============================] - 0s 3ms/step - loss: 0.6621 - accuracy: 0.6776 - val_loss: 0.6487 - val_accuracy: 0.7169\n",
            "Epoch 4/100\n",
            "32/32 [==============================] - 0s 2ms/step - loss: 0.6523 - accuracy: 0.7137 - val_loss: 0.6422 - val_accuracy: 0.7260\n",
            "Epoch 5/100\n",
            "32/32 [==============================] - 0s 2ms/step - loss: 0.6482 - accuracy: 0.7304 - val_loss: 0.6358 - val_accuracy: 0.7489\n",
            "Epoch 6/100\n",
            "32/32 [==============================] - 0s 2ms/step - loss: 0.6380 - accuracy: 0.7575 - val_loss: 0.6293 - val_accuracy: 0.7717\n",
            "Epoch 7/100\n",
            "32/32 [==============================] - 0s 3ms/step - loss: 0.6372 - accuracy: 0.7975 - val_loss: 0.6219 - val_accuracy: 0.7945\n",
            "Epoch 8/100\n",
            "32/32 [==============================] - 0s 3ms/step - loss: 0.6267 - accuracy: 0.7963 - val_loss: 0.6140 - val_accuracy: 0.8082\n",
            "Epoch 9/100\n",
            "32/32 [==============================] - 0s 2ms/step - loss: 0.6220 - accuracy: 0.7979 - val_loss: 0.6052 - val_accuracy: 0.8219\n",
            "Epoch 10/100\n",
            "32/32 [==============================] - 0s 2ms/step - loss: 0.6146 - accuracy: 0.8178 - val_loss: 0.5960 - val_accuracy: 0.8356\n",
            "Epoch 11/100\n",
            "32/32 [==============================] - 0s 2ms/step - loss: 0.6063 - accuracy: 0.8263 - val_loss: 0.5866 - val_accuracy: 0.8447\n",
            "Epoch 12/100\n",
            "32/32 [==============================] - 0s 2ms/step - loss: 0.5971 - accuracy: 0.8347 - val_loss: 0.5771 - val_accuracy: 0.8447\n",
            "Epoch 13/100\n",
            "32/32 [==============================] - 0s 2ms/step - loss: 0.5875 - accuracy: 0.8320 - val_loss: 0.5677 - val_accuracy: 0.8539\n",
            "Epoch 14/100\n",
            "32/32 [==============================] - 0s 2ms/step - loss: 0.5769 - accuracy: 0.8362 - val_loss: 0.5580 - val_accuracy: 0.8493\n",
            "Epoch 15/100\n",
            "32/32 [==============================] - 0s 3ms/step - loss: 0.5658 - accuracy: 0.8296 - val_loss: 0.5484 - val_accuracy: 0.8767\n",
            "Epoch 16/100\n",
            "32/32 [==============================] - 0s 3ms/step - loss: 0.5560 - accuracy: 0.8528 - val_loss: 0.5383 - val_accuracy: 0.8721\n",
            "Epoch 17/100\n",
            "32/32 [==============================] - 0s 2ms/step - loss: 0.5480 - accuracy: 0.8555 - val_loss: 0.5283 - val_accuracy: 0.8767\n",
            "Epoch 18/100\n",
            "32/32 [==============================] - 0s 2ms/step - loss: 0.5366 - accuracy: 0.8688 - val_loss: 0.5180 - val_accuracy: 0.8813\n",
            "Epoch 19/100\n",
            "32/32 [==============================] - 0s 2ms/step - loss: 0.5214 - accuracy: 0.8689 - val_loss: 0.5078 - val_accuracy: 0.8858\n",
            "Epoch 20/100\n",
            "32/32 [==============================] - 0s 2ms/step - loss: 0.5034 - accuracy: 0.8834 - val_loss: 0.4976 - val_accuracy: 0.8995\n",
            "Epoch 21/100\n",
            "32/32 [==============================] - 0s 2ms/step - loss: 0.5048 - accuracy: 0.8718 - val_loss: 0.4872 - val_accuracy: 0.8995\n",
            "Epoch 22/100\n",
            "32/32 [==============================] - 0s 2ms/step - loss: 0.4965 - accuracy: 0.8654 - val_loss: 0.4768 - val_accuracy: 0.8995\n",
            "Epoch 23/100\n",
            "32/32 [==============================] - 0s 2ms/step - loss: 0.4670 - accuracy: 0.8922 - val_loss: 0.4665 - val_accuracy: 0.9041\n",
            "Epoch 24/100\n",
            "32/32 [==============================] - 0s 2ms/step - loss: 0.4814 - accuracy: 0.8557 - val_loss: 0.4568 - val_accuracy: 0.8950\n",
            "Epoch 25/100\n",
            "32/32 [==============================] - 0s 3ms/step - loss: 0.4586 - accuracy: 0.8749 - val_loss: 0.4468 - val_accuracy: 0.8995\n",
            "Epoch 26/100\n",
            "32/32 [==============================] - 0s 3ms/step - loss: 0.4514 - accuracy: 0.8645 - val_loss: 0.4372 - val_accuracy: 0.8995\n",
            "Epoch 27/100\n",
            "32/32 [==============================] - 0s 3ms/step - loss: 0.4395 - accuracy: 0.8727 - val_loss: 0.4279 - val_accuracy: 0.9041\n",
            "Epoch 28/100\n",
            "32/32 [==============================] - 0s 2ms/step - loss: 0.4421 - accuracy: 0.8735 - val_loss: 0.4188 - val_accuracy: 0.8995\n",
            "Epoch 29/100\n",
            "32/32 [==============================] - 0s 2ms/step - loss: 0.4296 - accuracy: 0.8710 - val_loss: 0.4100 - val_accuracy: 0.8995\n",
            "Epoch 30/100\n",
            "32/32 [==============================] - 0s 3ms/step - loss: 0.4204 - accuracy: 0.8759 - val_loss: 0.4015 - val_accuracy: 0.9041\n",
            "Epoch 31/100\n",
            "32/32 [==============================] - 0s 3ms/step - loss: 0.4122 - accuracy: 0.8711 - val_loss: 0.3939 - val_accuracy: 0.9041\n",
            "Epoch 32/100\n",
            "32/32 [==============================] - 0s 3ms/step - loss: 0.4084 - accuracy: 0.8717 - val_loss: 0.3863 - val_accuracy: 0.9041\n",
            "Epoch 33/100\n",
            "32/32 [==============================] - 0s 3ms/step - loss: 0.4034 - accuracy: 0.8619 - val_loss: 0.3794 - val_accuracy: 0.9041\n",
            "Epoch 34/100\n",
            "32/32 [==============================] - 0s 3ms/step - loss: 0.3826 - accuracy: 0.8789 - val_loss: 0.3729 - val_accuracy: 0.9041\n",
            "Epoch 35/100\n",
            "32/32 [==============================] - 0s 3ms/step - loss: 0.3727 - accuracy: 0.8824 - val_loss: 0.3669 - val_accuracy: 0.9041\n",
            "Epoch 36/100\n",
            "32/32 [==============================] - 0s 2ms/step - loss: 0.3744 - accuracy: 0.8797 - val_loss: 0.3612 - val_accuracy: 0.8995\n",
            "Epoch 37/100\n",
            "32/32 [==============================] - 0s 2ms/step - loss: 0.3636 - accuracy: 0.8870 - val_loss: 0.3560 - val_accuracy: 0.9041\n",
            "Epoch 38/100\n",
            "32/32 [==============================] - 0s 3ms/step - loss: 0.3488 - accuracy: 0.8907 - val_loss: 0.3515 - val_accuracy: 0.9132\n",
            "Epoch 39/100\n",
            "32/32 [==============================] - 0s 3ms/step - loss: 0.3658 - accuracy: 0.8612 - val_loss: 0.3463 - val_accuracy: 0.9087\n",
            "Epoch 40/100\n",
            "32/32 [==============================] - 0s 2ms/step - loss: 0.3359 - accuracy: 0.8950 - val_loss: 0.3420 - val_accuracy: 0.8995\n",
            "Epoch 41/100\n",
            "32/32 [==============================] - 0s 2ms/step - loss: 0.3533 - accuracy: 0.8763 - val_loss: 0.3380 - val_accuracy: 0.9041\n",
            "Epoch 42/100\n",
            "32/32 [==============================] - 0s 2ms/step - loss: 0.3347 - accuracy: 0.8911 - val_loss: 0.3342 - val_accuracy: 0.9041\n",
            "Epoch 43/100\n",
            "32/32 [==============================] - 0s 2ms/step - loss: 0.3465 - accuracy: 0.8788 - val_loss: 0.3305 - val_accuracy: 0.9041\n",
            "Epoch 44/100\n",
            "32/32 [==============================] - 0s 2ms/step - loss: 0.3313 - accuracy: 0.8861 - val_loss: 0.3273 - val_accuracy: 0.9041\n",
            "Epoch 45/100\n",
            "32/32 [==============================] - 0s 3ms/step - loss: 0.3661 - accuracy: 0.8528 - val_loss: 0.3250 - val_accuracy: 0.9041\n",
            "Epoch 46/100\n",
            "32/32 [==============================] - 0s 2ms/step - loss: 0.3239 - accuracy: 0.8797 - val_loss: 0.3213 - val_accuracy: 0.9041\n",
            "Epoch 47/100\n",
            "32/32 [==============================] - 0s 3ms/step - loss: 0.3159 - accuracy: 0.8826 - val_loss: 0.3187 - val_accuracy: 0.8995\n",
            "Epoch 48/100\n",
            "32/32 [==============================] - 0s 3ms/step - loss: 0.3167 - accuracy: 0.8853 - val_loss: 0.3160 - val_accuracy: 0.8995\n",
            "Epoch 49/100\n",
            "32/32 [==============================] - 0s 3ms/step - loss: 0.3313 - accuracy: 0.8760 - val_loss: 0.3133 - val_accuracy: 0.9132\n",
            "Epoch 50/100\n",
            "32/32 [==============================] - 0s 3ms/step - loss: 0.3236 - accuracy: 0.8787 - val_loss: 0.3112 - val_accuracy: 0.9132\n",
            "Epoch 51/100\n",
            "32/32 [==============================] - 0s 2ms/step - loss: 0.3055 - accuracy: 0.8800 - val_loss: 0.3090 - val_accuracy: 0.9041\n",
            "Epoch 52/100\n",
            "32/32 [==============================] - 0s 2ms/step - loss: 0.3149 - accuracy: 0.8851 - val_loss: 0.3069 - val_accuracy: 0.9087\n",
            "Epoch 53/100\n",
            "32/32 [==============================] - 0s 2ms/step - loss: 0.3145 - accuracy: 0.8810 - val_loss: 0.3050 - val_accuracy: 0.9132\n",
            "Epoch 54/100\n",
            "32/32 [==============================] - 0s 2ms/step - loss: 0.3018 - accuracy: 0.8885 - val_loss: 0.3032 - val_accuracy: 0.9087\n",
            "Epoch 55/100\n",
            "32/32 [==============================] - 0s 3ms/step - loss: 0.3184 - accuracy: 0.8861 - val_loss: 0.3015 - val_accuracy: 0.9087\n",
            "Epoch 56/100\n",
            "32/32 [==============================] - 0s 3ms/step - loss: 0.2950 - accuracy: 0.8853 - val_loss: 0.3004 - val_accuracy: 0.9041\n",
            "Epoch 57/100\n",
            "32/32 [==============================] - 0s 3ms/step - loss: 0.3028 - accuracy: 0.8928 - val_loss: 0.2988 - val_accuracy: 0.9041\n",
            "Epoch 58/100\n",
            "32/32 [==============================] - 0s 2ms/step - loss: 0.2867 - accuracy: 0.8987 - val_loss: 0.2970 - val_accuracy: 0.9087\n",
            "Epoch 59/100\n",
            "32/32 [==============================] - 0s 3ms/step - loss: 0.3188 - accuracy: 0.8721 - val_loss: 0.2956 - val_accuracy: 0.9087\n",
            "Epoch 60/100\n",
            "32/32 [==============================] - 0s 2ms/step - loss: 0.2977 - accuracy: 0.8882 - val_loss: 0.2943 - val_accuracy: 0.9087\n",
            "Epoch 61/100\n",
            "32/32 [==============================] - 0s 3ms/step - loss: 0.2709 - accuracy: 0.8956 - val_loss: 0.2931 - val_accuracy: 0.9087\n",
            "Epoch 62/100\n",
            "32/32 [==============================] - 0s 3ms/step - loss: 0.2966 - accuracy: 0.8835 - val_loss: 0.2920 - val_accuracy: 0.9041\n",
            "Epoch 63/100\n",
            "32/32 [==============================] - 0s 2ms/step - loss: 0.3144 - accuracy: 0.8810 - val_loss: 0.2909 - val_accuracy: 0.9041\n",
            "Epoch 64/100\n",
            "32/32 [==============================] - 0s 2ms/step - loss: 0.2886 - accuracy: 0.8893 - val_loss: 0.2903 - val_accuracy: 0.9041\n",
            "Epoch 65/100\n",
            "32/32 [==============================] - 0s 2ms/step - loss: 0.3048 - accuracy: 0.8699 - val_loss: 0.2888 - val_accuracy: 0.9041\n",
            "Epoch 66/100\n",
            "32/32 [==============================] - 0s 2ms/step - loss: 0.2892 - accuracy: 0.8794 - val_loss: 0.2894 - val_accuracy: 0.8995\n",
            "Epoch 67/100\n",
            "32/32 [==============================] - 0s 3ms/step - loss: 0.2669 - accuracy: 0.9135 - val_loss: 0.2870 - val_accuracy: 0.9087\n",
            "Epoch 68/100\n",
            "32/32 [==============================] - 0s 2ms/step - loss: 0.2856 - accuracy: 0.8812 - val_loss: 0.2867 - val_accuracy: 0.9041\n",
            "Epoch 69/100\n",
            "32/32 [==============================] - 0s 2ms/step - loss: 0.2713 - accuracy: 0.9014 - val_loss: 0.2853 - val_accuracy: 0.9087\n",
            "Epoch 70/100\n",
            "32/32 [==============================] - 0s 2ms/step - loss: 0.2946 - accuracy: 0.8886 - val_loss: 0.2859 - val_accuracy: 0.8995\n",
            "Epoch 71/100\n",
            "32/32 [==============================] - 0s 2ms/step - loss: 0.2927 - accuracy: 0.8880 - val_loss: 0.2843 - val_accuracy: 0.9041\n",
            "Epoch 72/100\n",
            "32/32 [==============================] - 0s 3ms/step - loss: 0.2932 - accuracy: 0.8895 - val_loss: 0.2839 - val_accuracy: 0.8995\n",
            "Epoch 73/100\n",
            "32/32 [==============================] - 0s 2ms/step - loss: 0.2777 - accuracy: 0.8962 - val_loss: 0.2824 - val_accuracy: 0.9041\n",
            "Epoch 74/100\n",
            "32/32 [==============================] - 0s 3ms/step - loss: 0.3011 - accuracy: 0.8835 - val_loss: 0.2816 - val_accuracy: 0.8995\n",
            "Epoch 75/100\n",
            "32/32 [==============================] - 0s 2ms/step - loss: 0.2706 - accuracy: 0.9054 - val_loss: 0.2810 - val_accuracy: 0.8995\n",
            "Epoch 76/100\n",
            "32/32 [==============================] - 0s 2ms/step - loss: 0.2887 - accuracy: 0.8808 - val_loss: 0.2814 - val_accuracy: 0.8995\n",
            "Epoch 77/100\n",
            "32/32 [==============================] - 0s 2ms/step - loss: 0.2756 - accuracy: 0.8947 - val_loss: 0.2798 - val_accuracy: 0.8950\n",
            "Epoch 78/100\n",
            "32/32 [==============================] - 0s 2ms/step - loss: 0.2559 - accuracy: 0.9105 - val_loss: 0.2793 - val_accuracy: 0.8995\n",
            "Epoch 79/100\n",
            "32/32 [==============================] - 0s 3ms/step - loss: 0.2837 - accuracy: 0.8765 - val_loss: 0.2823 - val_accuracy: 0.8904\n",
            "Epoch 80/100\n",
            "32/32 [==============================] - 0s 2ms/step - loss: 0.2674 - accuracy: 0.9045 - val_loss: 0.2780 - val_accuracy: 0.8995\n",
            "Epoch 81/100\n",
            "32/32 [==============================] - 0s 3ms/step - loss: 0.2655 - accuracy: 0.8957 - val_loss: 0.2778 - val_accuracy: 0.8995\n",
            "Epoch 82/100\n",
            "32/32 [==============================] - 0s 2ms/step - loss: 0.2742 - accuracy: 0.8897 - val_loss: 0.2772 - val_accuracy: 0.9041\n",
            "Epoch 83/100\n",
            "32/32 [==============================] - 0s 3ms/step - loss: 0.2823 - accuracy: 0.8886 - val_loss: 0.2769 - val_accuracy: 0.8995\n",
            "Epoch 84/100\n",
            "32/32 [==============================] - 0s 3ms/step - loss: 0.2804 - accuracy: 0.8782 - val_loss: 0.2762 - val_accuracy: 0.9041\n",
            "Epoch 85/100\n",
            "32/32 [==============================] - 0s 3ms/step - loss: 0.2786 - accuracy: 0.8721 - val_loss: 0.2756 - val_accuracy: 0.9041\n",
            "Epoch 86/100\n",
            "32/32 [==============================] - 0s 3ms/step - loss: 0.2724 - accuracy: 0.8927 - val_loss: 0.2752 - val_accuracy: 0.9041\n",
            "Epoch 87/100\n",
            "32/32 [==============================] - 0s 3ms/step - loss: 0.2890 - accuracy: 0.8718 - val_loss: 0.2759 - val_accuracy: 0.8950\n",
            "Epoch 88/100\n",
            "32/32 [==============================] - 0s 2ms/step - loss: 0.2666 - accuracy: 0.8891 - val_loss: 0.2746 - val_accuracy: 0.8995\n",
            "Epoch 89/100\n",
            "32/32 [==============================] - 0s 3ms/step - loss: 0.2650 - accuracy: 0.8851 - val_loss: 0.2743 - val_accuracy: 0.8995\n",
            "Epoch 90/100\n",
            "32/32 [==============================] - 0s 3ms/step - loss: 0.2728 - accuracy: 0.8887 - val_loss: 0.2738 - val_accuracy: 0.8995\n",
            "Epoch 91/100\n",
            "32/32 [==============================] - 0s 3ms/step - loss: 0.2997 - accuracy: 0.8701 - val_loss: 0.2735 - val_accuracy: 0.8995\n",
            "Epoch 92/100\n",
            "32/32 [==============================] - 0s 2ms/step - loss: 0.2575 - accuracy: 0.8953 - val_loss: 0.2730 - val_accuracy: 0.8995\n",
            "Epoch 93/100\n",
            "32/32 [==============================] - 0s 3ms/step - loss: 0.2879 - accuracy: 0.8820 - val_loss: 0.2737 - val_accuracy: 0.8995\n",
            "Epoch 94/100\n",
            "32/32 [==============================] - 0s 3ms/step - loss: 0.2722 - accuracy: 0.8815 - val_loss: 0.2724 - val_accuracy: 0.9041\n",
            "Epoch 95/100\n",
            "32/32 [==============================] - 0s 3ms/step - loss: 0.3111 - accuracy: 0.8715 - val_loss: 0.2720 - val_accuracy: 0.9041\n",
            "Epoch 96/100\n",
            "32/32 [==============================] - 0s 3ms/step - loss: 0.2784 - accuracy: 0.8850 - val_loss: 0.2721 - val_accuracy: 0.9041\n",
            "Epoch 97/100\n",
            "32/32 [==============================] - 0s 3ms/step - loss: 0.2756 - accuracy: 0.8893 - val_loss: 0.2714 - val_accuracy: 0.9041\n",
            "Epoch 98/100\n",
            "32/32 [==============================] - 0s 2ms/step - loss: 0.2833 - accuracy: 0.8834 - val_loss: 0.2713 - val_accuracy: 0.9041\n",
            "Epoch 99/100\n",
            "32/32 [==============================] - 0s 2ms/step - loss: 0.2992 - accuracy: 0.8629 - val_loss: 0.2709 - val_accuracy: 0.8995\n",
            "Epoch 100/100\n",
            "32/32 [==============================] - 0s 2ms/step - loss: 0.2717 - accuracy: 0.8938 - val_loss: 0.2705 - val_accuracy: 0.8995\n"
          ],
          "name": "stdout"
        }
      ]
    },
    {
      "cell_type": "code",
      "metadata": {
        "colab": {
          "base_uri": "https://localhost:8080/"
        },
        "id": "atCcxdoJgYZg",
        "outputId": "1a0996a8-9cab-4d28-e6f3-242be9469997"
      },
      "source": [
        "model.evaluate(X_test, Y_test)[1]"
      ],
      "execution_count": 20,
      "outputs": [
        {
          "output_type": "stream",
          "text": [
            "7/7 [==============================] - 0s 2ms/step - loss: 0.2945 - accuracy: 0.8813\n"
          ],
          "name": "stdout"
        },
        {
          "output_type": "execute_result",
          "data": {
            "text/plain": [
              "0.8812785148620605"
            ]
          },
          "metadata": {
            "tags": []
          },
          "execution_count": 20
        }
      ]
    },
    {
      "cell_type": "code",
      "metadata": {
        "id": "9v7fGanQgckP"
      },
      "source": [
        "import matplotlib.pyplot as plt"
      ],
      "execution_count": 21,
      "outputs": []
    },
    {
      "cell_type": "code",
      "metadata": {
        "colab": {
          "base_uri": "https://localhost:8080/",
          "height": 295
        },
        "id": "6ejmY5J-gfWI",
        "outputId": "f7dddf4d-048d-482c-b1ee-ceda34ccf211"
      },
      "source": [
        "plt.plot(hist.history['loss'])\n",
        "plt.plot(hist.history['val_loss'])\n",
        "plt.title('Model loss')\n",
        "plt.ylabel('Loss')\n",
        "plt.xlabel('Epoch')\n",
        "plt.legend(['Train', 'Val'], loc='upper right')\n",
        "plt.show()"
      ],
      "execution_count": 22,
      "outputs": [
        {
          "output_type": "display_data",
          "data": {
            "image/png": "[encoded data removed]",
            "text/plain": [
              "<Figure size 432x288 with 1 Axes>"
            ]
          },
          "metadata": {
            "tags": [],
            "needs_background": "light"
          }
        }
      ]
    },
    {
      "cell_type": "code",
      "metadata": {
        "colab": {
          "base_uri": "https://localhost:8080/",
          "height": 295
        },
        "id": "XtNLcA1qgiRk",
        "outputId": "20e7c2c0-f5b0-4e0b-ef8c-5936bc9941f0"
      },
      "source": [
        "plt.plot(hist.history['accuracy'])\n",
        "plt.plot(hist.history['val_accuracy'])\n",
        "plt.title('Model accuracy')\n",
        "plt.ylabel('Accuracy')\n",
        "plt.xlabel('Epoch')\n",
        "plt.legend(['Train', 'Val'], loc='lower right')\n",
        "plt.show()"
      ],
      "execution_count": 25,
      "outputs": [
        {
          "output_type": "display_data",
          "data": {
            "image/png": "[encoded data removed]",
            "text/plain": [
              "<Figure size 432x288 with 1 Axes>"
            ]
          },
          "metadata": {
            "tags": [],
            "needs_background": "light"
          }
        }
      ]
    },
    {
      "cell_type": "code",
      "metadata": {
        "id": "-sNJPKNoglCB"
      },
      "source": [
        "model_2 = Sequential([\n",
        "    Dense(1000, activation='relu', input_shape=(10,)),\n",
        "    Dense(1000, activation='relu'),\n",
        "    Dense(1000, activation='relu'),\n",
        "    Dense(1000, activation='relu'),\n",
        "    Dense(1, activation='sigmoid'),\n",
        "])"
      ],
      "execution_count": 26,
      "outputs": []
    },
    {
      "cell_type": "code",
      "metadata": {
        "colab": {
          "base_uri": "https://localhost:8080/"
        },
        "id": "EQdnAsFChCdg",
        "outputId": "6eeee5d2-3ac3-4bfc-e533-b4ba1206eb87"
      },
      "source": [
        "model_2.compile(optimizer='adam',\n",
        "              loss='binary_crossentropy',\n",
        "              metrics=['accuracy'])\n",
        "hist_2 = model_2.fit(X_train, Y_train,\n",
        "          batch_size=32, epochs=100,\n",
        "          validation_data=(X_val, Y_val))"
      ],
      "execution_count": 28,
      "outputs": [
        {
          "output_type": "stream",
          "text": [
            "Epoch 1/100\n",
            "32/32 [==============================] - 2s 41ms/step - loss: 0.5504 - accuracy: 0.6975 - val_loss: 0.3116 - val_accuracy: 0.8858\n",
            "Epoch 2/100\n",
            "32/32 [==============================] - 1s 35ms/step - loss: 0.3151 - accuracy: 0.8750 - val_loss: 0.3275 - val_accuracy: 0.9041\n",
            "Epoch 3/100\n",
            "32/32 [==============================] - 1s 36ms/step - loss: 0.3185 - accuracy: 0.8781 - val_loss: 0.3064 - val_accuracy: 0.8813\n",
            "Epoch 4/100\n",
            "32/32 [==============================] - 1s 35ms/step - loss: 0.2990 - accuracy: 0.8745 - val_loss: 0.3172 - val_accuracy: 0.8950\n",
            "Epoch 5/100\n",
            "32/32 [==============================] - 1s 35ms/step - loss: 0.2958 - accuracy: 0.8788 - val_loss: 0.3594 - val_accuracy: 0.9041\n",
            "Epoch 6/100\n",
            "32/32 [==============================] - 1s 35ms/step - loss: 0.2982 - accuracy: 0.8727 - val_loss: 0.3440 - val_accuracy: 0.8858\n",
            "Epoch 7/100\n",
            "32/32 [==============================] - 1s 35ms/step - loss: 0.2214 - accuracy: 0.9128 - val_loss: 0.3255 - val_accuracy: 0.9087\n",
            "Epoch 8/100\n",
            "32/32 [==============================] - 1s 35ms/step - loss: 0.2783 - accuracy: 0.8788 - val_loss: 0.2918 - val_accuracy: 0.9041\n",
            "Epoch 9/100\n",
            "32/32 [==============================] - 1s 36ms/step - loss: 0.2132 - accuracy: 0.9057 - val_loss: 0.3336 - val_accuracy: 0.9087\n",
            "Epoch 10/100\n",
            "32/32 [==============================] - 1s 36ms/step - loss: 0.2458 - accuracy: 0.8794 - val_loss: 0.3340 - val_accuracy: 0.8995\n",
            "Epoch 11/100\n",
            "32/32 [==============================] - 1s 35ms/step - loss: 0.2561 - accuracy: 0.9005 - val_loss: 0.3471 - val_accuracy: 0.9041\n",
            "Epoch 12/100\n",
            "32/32 [==============================] - 1s 36ms/step - loss: 0.2364 - accuracy: 0.9051 - val_loss: 0.3454 - val_accuracy: 0.8995\n",
            "Epoch 13/100\n",
            "32/32 [==============================] - 1s 35ms/step - loss: 0.1942 - accuracy: 0.9066 - val_loss: 0.3709 - val_accuracy: 0.9041\n",
            "Epoch 14/100\n",
            "32/32 [==============================] - 1s 36ms/step - loss: 0.1907 - accuracy: 0.9264 - val_loss: 0.3194 - val_accuracy: 0.9224\n",
            "Epoch 15/100\n",
            "32/32 [==============================] - 1s 35ms/step - loss: 0.2063 - accuracy: 0.9043 - val_loss: 0.3432 - val_accuracy: 0.9041\n",
            "Epoch 16/100\n",
            "32/32 [==============================] - 1s 35ms/step - loss: 0.1800 - accuracy: 0.9265 - val_loss: 0.3447 - val_accuracy: 0.9041\n",
            "Epoch 17/100\n",
            "32/32 [==============================] - 1s 35ms/step - loss: 0.1955 - accuracy: 0.9063 - val_loss: 0.3513 - val_accuracy: 0.9087\n",
            "Epoch 18/100\n",
            "32/32 [==============================] - 1s 35ms/step - loss: 0.2115 - accuracy: 0.9055 - val_loss: 0.3481 - val_accuracy: 0.9224\n",
            "Epoch 19/100\n",
            "32/32 [==============================] - 1s 36ms/step - loss: 0.1951 - accuracy: 0.9210 - val_loss: 0.3376 - val_accuracy: 0.9041\n",
            "Epoch 20/100\n",
            "32/32 [==============================] - 1s 36ms/step - loss: 0.1770 - accuracy: 0.9209 - val_loss: 0.3910 - val_accuracy: 0.8767\n",
            "Epoch 21/100\n",
            "32/32 [==============================] - 1s 37ms/step - loss: 0.1992 - accuracy: 0.9175 - val_loss: 0.3664 - val_accuracy: 0.9132\n",
            "Epoch 22/100\n",
            "32/32 [==============================] - 1s 36ms/step - loss: 0.1890 - accuracy: 0.9150 - val_loss: 0.3627 - val_accuracy: 0.9041\n",
            "Epoch 23/100\n",
            "32/32 [==============================] - 1s 37ms/step - loss: 0.1714 - accuracy: 0.9297 - val_loss: 0.3877 - val_accuracy: 0.9132\n",
            "Epoch 24/100\n",
            "32/32 [==============================] - 1s 36ms/step - loss: 0.2336 - accuracy: 0.8993 - val_loss: 0.3228 - val_accuracy: 0.9224\n",
            "Epoch 25/100\n",
            "32/32 [==============================] - 1s 36ms/step - loss: 0.2012 - accuracy: 0.9061 - val_loss: 0.3485 - val_accuracy: 0.8858\n",
            "Epoch 26/100\n",
            "32/32 [==============================] - 1s 35ms/step - loss: 0.2179 - accuracy: 0.9003 - val_loss: 0.3236 - val_accuracy: 0.9132\n",
            "Epoch 27/100\n",
            "32/32 [==============================] - 1s 35ms/step - loss: 0.1825 - accuracy: 0.9237 - val_loss: 0.3729 - val_accuracy: 0.8995\n",
            "Epoch 28/100\n",
            "32/32 [==============================] - 1s 36ms/step - loss: 0.1757 - accuracy: 0.9289 - val_loss: 0.3290 - val_accuracy: 0.9178\n",
            "Epoch 29/100\n",
            "32/32 [==============================] - 1s 36ms/step - loss: 0.2345 - accuracy: 0.9005 - val_loss: 0.3486 - val_accuracy: 0.8995\n",
            "Epoch 30/100\n",
            "32/32 [==============================] - 1s 36ms/step - loss: 0.1880 - accuracy: 0.9154 - val_loss: 0.3700 - val_accuracy: 0.9224\n",
            "Epoch 31/100\n",
            "32/32 [==============================] - 1s 37ms/step - loss: 0.1795 - accuracy: 0.9186 - val_loss: 0.3850 - val_accuracy: 0.9087\n",
            "Epoch 32/100\n",
            "32/32 [==============================] - 1s 36ms/step - loss: 0.1668 - accuracy: 0.9150 - val_loss: 0.4409 - val_accuracy: 0.8995\n",
            "Epoch 33/100\n",
            "32/32 [==============================] - 1s 41ms/step - loss: 0.2057 - accuracy: 0.9161 - val_loss: 0.3708 - val_accuracy: 0.9132\n",
            "Epoch 34/100\n",
            "32/32 [==============================] - 1s 43ms/step - loss: 0.1536 - accuracy: 0.9424 - val_loss: 0.3842 - val_accuracy: 0.9132\n",
            "Epoch 35/100\n",
            "32/32 [==============================] - 1s 37ms/step - loss: 0.1919 - accuracy: 0.9097 - val_loss: 0.4049 - val_accuracy: 0.9087\n",
            "Epoch 36/100\n",
            "32/32 [==============================] - 1s 35ms/step - loss: 0.1621 - accuracy: 0.9303 - val_loss: 0.4464 - val_accuracy: 0.8904\n",
            "Epoch 37/100\n",
            "32/32 [==============================] - 1s 36ms/step - loss: 0.1807 - accuracy: 0.9252 - val_loss: 0.4281 - val_accuracy: 0.9132\n",
            "Epoch 38/100\n",
            "32/32 [==============================] - 1s 35ms/step - loss: 0.1641 - accuracy: 0.9272 - val_loss: 0.4124 - val_accuracy: 0.8904\n",
            "Epoch 39/100\n",
            "32/32 [==============================] - 1s 35ms/step - loss: 0.1603 - accuracy: 0.9314 - val_loss: 0.4253 - val_accuracy: 0.9041\n",
            "Epoch 40/100\n",
            "32/32 [==============================] - 1s 35ms/step - loss: 0.1209 - accuracy: 0.9503 - val_loss: 0.3716 - val_accuracy: 0.8995\n",
            "Epoch 41/100\n",
            "32/32 [==============================] - 1s 35ms/step - loss: 0.1765 - accuracy: 0.9291 - val_loss: 0.3470 - val_accuracy: 0.9087\n",
            "Epoch 42/100\n",
            "32/32 [==============================] - 1s 34ms/step - loss: 0.1637 - accuracy: 0.9263 - val_loss: 0.3618 - val_accuracy: 0.9087\n",
            "Epoch 43/100\n",
            "32/32 [==============================] - 1s 34ms/step - loss: 0.2097 - accuracy: 0.9063 - val_loss: 0.3482 - val_accuracy: 0.9087\n",
            "Epoch 44/100\n",
            "32/32 [==============================] - 1s 34ms/step - loss: 0.1517 - accuracy: 0.9264 - val_loss: 0.3197 - val_accuracy: 0.9224\n",
            "Epoch 45/100\n",
            "32/32 [==============================] - 1s 34ms/step - loss: 0.1804 - accuracy: 0.9146 - val_loss: 0.3868 - val_accuracy: 0.9269\n",
            "Epoch 46/100\n",
            "32/32 [==============================] - 1s 36ms/step - loss: 0.1815 - accuracy: 0.9384 - val_loss: 0.4470 - val_accuracy: 0.9041\n",
            "Epoch 47/100\n",
            "32/32 [==============================] - 1s 35ms/step - loss: 0.1578 - accuracy: 0.9248 - val_loss: 0.4055 - val_accuracy: 0.9087\n",
            "Epoch 48/100\n",
            "32/32 [==============================] - 1s 35ms/step - loss: 0.1721 - accuracy: 0.9248 - val_loss: 0.3782 - val_accuracy: 0.8904\n",
            "Epoch 49/100\n",
            "32/32 [==============================] - 1s 34ms/step - loss: 0.1835 - accuracy: 0.9132 - val_loss: 0.3892 - val_accuracy: 0.9178\n",
            "Epoch 50/100\n",
            "32/32 [==============================] - 1s 36ms/step - loss: 0.1531 - accuracy: 0.9406 - val_loss: 0.4279 - val_accuracy: 0.8904\n",
            "Epoch 51/100\n",
            "32/32 [==============================] - 1s 36ms/step - loss: 0.1764 - accuracy: 0.9287 - val_loss: 0.3650 - val_accuracy: 0.8904\n",
            "Epoch 52/100\n",
            "32/32 [==============================] - 1s 35ms/step - loss: 0.1410 - accuracy: 0.9413 - val_loss: 0.4515 - val_accuracy: 0.9178\n",
            "Epoch 53/100\n",
            "32/32 [==============================] - 1s 36ms/step - loss: 0.1646 - accuracy: 0.9270 - val_loss: 0.4163 - val_accuracy: 0.8630\n",
            "Epoch 54/100\n",
            "32/32 [==============================] - 1s 36ms/step - loss: 0.1787 - accuracy: 0.9046 - val_loss: 0.4397 - val_accuracy: 0.8904\n",
            "Epoch 55/100\n",
            "32/32 [==============================] - 1s 36ms/step - loss: 0.1897 - accuracy: 0.9254 - val_loss: 0.3995 - val_accuracy: 0.8950\n",
            "Epoch 56/100\n",
            "32/32 [==============================] - 1s 34ms/step - loss: 0.1519 - accuracy: 0.9224 - val_loss: 0.4334 - val_accuracy: 0.9269\n",
            "Epoch 57/100\n",
            "32/32 [==============================] - 1s 36ms/step - loss: 0.1249 - accuracy: 0.9334 - val_loss: 0.4428 - val_accuracy: 0.9132\n",
            "Epoch 58/100\n",
            "32/32 [==============================] - 1s 36ms/step - loss: 0.1433 - accuracy: 0.9440 - val_loss: 0.5367 - val_accuracy: 0.8995\n",
            "Epoch 59/100\n",
            "32/32 [==============================] - 1s 36ms/step - loss: 0.2341 - accuracy: 0.9008 - val_loss: 0.3358 - val_accuracy: 0.8904\n",
            "Epoch 60/100\n",
            "32/32 [==============================] - 1s 36ms/step - loss: 0.1513 - accuracy: 0.9247 - val_loss: 0.4431 - val_accuracy: 0.9041\n",
            "Epoch 61/100\n",
            "32/32 [==============================] - 1s 35ms/step - loss: 0.1204 - accuracy: 0.9316 - val_loss: 0.5261 - val_accuracy: 0.8995\n",
            "Epoch 62/100\n",
            "32/32 [==============================] - 1s 35ms/step - loss: 0.1511 - accuracy: 0.9324 - val_loss: 0.5039 - val_accuracy: 0.9178\n",
            "Epoch 63/100\n",
            "32/32 [==============================] - 1s 35ms/step - loss: 0.1351 - accuracy: 0.9338 - val_loss: 0.4575 - val_accuracy: 0.9178\n",
            "Epoch 64/100\n",
            "32/32 [==============================] - 1s 35ms/step - loss: 0.1235 - accuracy: 0.9482 - val_loss: 0.4933 - val_accuracy: 0.9041\n",
            "Epoch 65/100\n",
            "32/32 [==============================] - 1s 36ms/step - loss: 0.1423 - accuracy: 0.9408 - val_loss: 0.3844 - val_accuracy: 0.8950\n",
            "Epoch 66/100\n",
            "32/32 [==============================] - 1s 35ms/step - loss: 0.1520 - accuracy: 0.9274 - val_loss: 0.5449 - val_accuracy: 0.8995\n",
            "Epoch 67/100\n",
            "32/32 [==============================] - 1s 40ms/step - loss: 0.1600 - accuracy: 0.9232 - val_loss: 0.4990 - val_accuracy: 0.8858\n",
            "Epoch 68/100\n",
            "32/32 [==============================] - 1s 35ms/step - loss: 0.1862 - accuracy: 0.9158 - val_loss: 0.4404 - val_accuracy: 0.8995\n",
            "Epoch 69/100\n",
            "32/32 [==============================] - 1s 35ms/step - loss: 0.1267 - accuracy: 0.9553 - val_loss: 0.4601 - val_accuracy: 0.9224\n",
            "Epoch 70/100\n",
            "32/32 [==============================] - 1s 35ms/step - loss: 0.1406 - accuracy: 0.9482 - val_loss: 0.4679 - val_accuracy: 0.8950\n",
            "Epoch 71/100\n",
            "32/32 [==============================] - 1s 35ms/step - loss: 0.1325 - accuracy: 0.9364 - val_loss: 0.4715 - val_accuracy: 0.9041\n",
            "Epoch 72/100\n",
            "32/32 [==============================] - 1s 35ms/step - loss: 0.1527 - accuracy: 0.9293 - val_loss: 0.5043 - val_accuracy: 0.9132\n",
            "Epoch 73/100\n",
            "32/32 [==============================] - 1s 35ms/step - loss: 0.1423 - accuracy: 0.9439 - val_loss: 0.3473 - val_accuracy: 0.9087\n",
            "Epoch 74/100\n",
            "32/32 [==============================] - 1s 35ms/step - loss: 0.1506 - accuracy: 0.9335 - val_loss: 0.4896 - val_accuracy: 0.9269\n",
            "Epoch 75/100\n",
            "32/32 [==============================] - 1s 35ms/step - loss: 0.1315 - accuracy: 0.9452 - val_loss: 0.5092 - val_accuracy: 0.9178\n",
            "Epoch 76/100\n",
            "32/32 [==============================] - 1s 35ms/step - loss: 0.1171 - accuracy: 0.9449 - val_loss: 0.4374 - val_accuracy: 0.8995\n",
            "Epoch 77/100\n",
            "32/32 [==============================] - 1s 37ms/step - loss: 0.2249 - accuracy: 0.9027 - val_loss: 0.3869 - val_accuracy: 0.9041\n",
            "Epoch 78/100\n",
            "32/32 [==============================] - 1s 35ms/step - loss: 0.1514 - accuracy: 0.9284 - val_loss: 0.4535 - val_accuracy: 0.9041\n",
            "Epoch 79/100\n",
            "32/32 [==============================] - 1s 35ms/step - loss: 0.1232 - accuracy: 0.9386 - val_loss: 0.3921 - val_accuracy: 0.8995\n",
            "Epoch 80/100\n",
            "32/32 [==============================] - 1s 35ms/step - loss: 0.1410 - accuracy: 0.9329 - val_loss: 0.4716 - val_accuracy: 0.9132\n",
            "Epoch 81/100\n",
            "32/32 [==============================] - 1s 35ms/step - loss: 0.1119 - accuracy: 0.9487 - val_loss: 0.5397 - val_accuracy: 0.9041\n",
            "Epoch 82/100\n",
            "32/32 [==============================] - 1s 36ms/step - loss: 0.1155 - accuracy: 0.9520 - val_loss: 0.5504 - val_accuracy: 0.9132\n",
            "Epoch 83/100\n",
            "32/32 [==============================] - 1s 36ms/step - loss: 0.0988 - accuracy: 0.9599 - val_loss: 0.4996 - val_accuracy: 0.9132\n",
            "Epoch 84/100\n",
            "32/32 [==============================] - 1s 35ms/step - loss: 0.1170 - accuracy: 0.9520 - val_loss: 0.4817 - val_accuracy: 0.8904\n",
            "Epoch 85/100\n",
            "32/32 [==============================] - 1s 36ms/step - loss: 0.1017 - accuracy: 0.9633 - val_loss: 0.4784 - val_accuracy: 0.8995\n",
            "Epoch 86/100\n",
            "32/32 [==============================] - 1s 37ms/step - loss: 0.1198 - accuracy: 0.9444 - val_loss: 0.6830 - val_accuracy: 0.9132\n",
            "Epoch 87/100\n",
            "32/32 [==============================] - 1s 35ms/step - loss: 0.1232 - accuracy: 0.9483 - val_loss: 0.5793 - val_accuracy: 0.9087\n",
            "Epoch 88/100\n",
            "32/32 [==============================] - 1s 35ms/step - loss: 0.1348 - accuracy: 0.9374 - val_loss: 0.6317 - val_accuracy: 0.9087\n",
            "Epoch 89/100\n",
            "32/32 [==============================] - 1s 36ms/step - loss: 0.0981 - accuracy: 0.9504 - val_loss: 0.6290 - val_accuracy: 0.9132\n",
            "Epoch 90/100\n",
            "32/32 [==============================] - 1s 36ms/step - loss: 0.1038 - accuracy: 0.9576 - val_loss: 0.6442 - val_accuracy: 0.9132\n",
            "Epoch 91/100\n",
            "32/32 [==============================] - 1s 36ms/step - loss: 0.1008 - accuracy: 0.9560 - val_loss: 0.6002 - val_accuracy: 0.8950\n",
            "Epoch 92/100\n",
            "32/32 [==============================] - 1s 35ms/step - loss: 0.1381 - accuracy: 0.9507 - val_loss: 0.6149 - val_accuracy: 0.8813\n",
            "Epoch 93/100\n",
            "32/32 [==============================] - 1s 36ms/step - loss: 0.1294 - accuracy: 0.9477 - val_loss: 0.6689 - val_accuracy: 0.9041\n",
            "Epoch 94/100\n",
            "32/32 [==============================] - 1s 35ms/step - loss: 0.1199 - accuracy: 0.9478 - val_loss: 0.6229 - val_accuracy: 0.8995\n",
            "Epoch 95/100\n",
            "32/32 [==============================] - 1s 36ms/step - loss: 0.1406 - accuracy: 0.9250 - val_loss: 0.6178 - val_accuracy: 0.9087\n",
            "Epoch 96/100\n",
            "32/32 [==============================] - 1s 35ms/step - loss: 0.1177 - accuracy: 0.9548 - val_loss: 0.7023 - val_accuracy: 0.8858\n",
            "Epoch 97/100\n",
            "32/32 [==============================] - 1s 36ms/step - loss: 0.0935 - accuracy: 0.9711 - val_loss: 0.6075 - val_accuracy: 0.8995\n",
            "Epoch 98/100\n",
            "32/32 [==============================] - 1s 36ms/step - loss: 0.1125 - accuracy: 0.9605 - val_loss: 0.6759 - val_accuracy: 0.9041\n",
            "Epoch 99/100\n",
            "32/32 [==============================] - 1s 36ms/step - loss: 0.1089 - accuracy: 0.9555 - val_loss: 0.6571 - val_accuracy: 0.8904\n",
            "Epoch 100/100\n",
            "32/32 [==============================] - 1s 35ms/step - loss: 0.1569 - accuracy: 0.9493 - val_loss: 0.6016 - val_accuracy: 0.8995\n"
          ],
          "name": "stdout"
        }
      ]
    },
    {
      "cell_type": "code",
      "metadata": {
        "colab": {
          "base_uri": "https://localhost:8080/",
          "height": 295
        },
        "id": "I8yIzhKMhJJQ",
        "outputId": "78ecfc73-1f36-4dfb-d03a-e1005b60cbd0"
      },
      "source": [
        "plt.plot(hist_2.history['loss'])\n",
        "plt.plot(hist_2.history['val_loss'])\n",
        "plt.title('Model loss')\n",
        "plt.ylabel('Loss')\n",
        "plt.xlabel('Epoch')\n",
        "plt.legend(['Train', 'Val'], loc='upper right')\n",
        "plt.show()"
      ],
      "execution_count": 29,
      "outputs": [
        {
          "output_type": "display_data",
          "data": {
            "image/png": "[encoded data removed]",
            "text/plain": [
              "<Figure size 432x288 with 1 Axes>"
            ]
          },
          "metadata": {
            "tags": [],
            "needs_background": "light"
          }
        }
      ]
    },
    {
      "cell_type": "code",
      "metadata": {
        "colab": {
          "base_uri": "https://localhost:8080/",
          "height": 295
        },
        "id": "7fHcvbGyopu1",
        "outputId": "91d1b12a-f17c-4718-e249-9c024fb62b99"
      },
      "source": [
        "plt.plot(hist_2.history['accuracy'])\n",
        "plt.plot(hist_2.history['val_accuracy'])\n",
        "plt.title('Model accuracy')\n",
        "plt.ylabel('Accuracy')\n",
        "plt.xlabel('Epoch')\n",
        "plt.legend(['Train', 'Val'], loc='lower right')\n",
        "plt.show()"
      ],
      "execution_count": 32,
      "outputs": [
        {
          "output_type": "display_data",
          "data": {
            "image/png": "[encoded data removed]",
            "text/plain": [
              "<Figure size 432x288 with 1 Axes>"
            ]
          },
          "metadata": {
            "tags": [],
            "needs_background": "light"
          }
        }
      ]
    },
    {
      "cell_type": "code",
      "metadata": {
        "id": "zFWG7qpbo5BG"
      },
      "source": [
        "from keras.layers import Dropout\n",
        "from keras import regularizers"
      ],
      "execution_count": 33,
      "outputs": []
    },
    {
      "cell_type": "code",
      "metadata": {
        "id": "g4z2P8CAo7N6"
      },
      "source": [
        "model_3 = Sequential([\n",
        "    Dense(1000, activation='relu', kernel_regularizer=regularizers.l2(0.01), input_shape=(10,)),\n",
        "    Dropout(0.3),\n",
        "    Dense(1000, activation='relu', kernel_regularizer=regularizers.l2(0.01)),\n",
        "    Dropout(0.3),\n",
        "    Dense(1000, activation='relu', kernel_regularizer=regularizers.l2(0.01)),\n",
        "    Dropout(0.3),\n",
        "    Dense(1000, activation='relu', kernel_regularizer=regularizers.l2(0.01)),\n",
        "    Dropout(0.3),\n",
        "    Dense(1, activation='sigmoid', kernel_regularizer=regularizers.l2(0.01)),\n",
        "])"
      ],
      "execution_count": 34,
      "outputs": []
    },
    {
      "cell_type": "code",
      "metadata": {
        "id": "YQwKQwZIo-Am"
      },
      "source": [
        "model_3.compile(optimizer='adam',\n",
        "              loss='binary_crossentropy',\n",
        "              metrics=['accuracy'])"
      ],
      "execution_count": 35,
      "outputs": []
    },
    {
      "cell_type": "code",
      "metadata": {
        "colab": {
          "base_uri": "https://localhost:8080/"
        },
        "id": "MRSm1xdypBw8",
        "outputId": "90d4a767-2d92-49a8-f064-9787942875bd"
      },
      "source": [
        "hist_3 = model_3.fit(X_train, Y_train,\n",
        "          batch_size=32, epochs=100,\n",
        "          validation_data=(X_val, Y_val))"
      ],
      "execution_count": 36,
      "outputs": [
        {
          "output_type": "stream",
          "text": [
            "Epoch 1/100\n",
            "32/32 [==============================] - 2s 53ms/step - loss: 21.1179 - accuracy: 0.5641 - val_loss: 3.8744 - val_accuracy: 0.8767\n",
            "Epoch 2/100\n",
            "32/32 [==============================] - 1s 46ms/step - loss: 2.5104 - accuracy: 0.8032 - val_loss: 0.6851 - val_accuracy: 0.8447\n",
            "Epoch 3/100\n",
            "32/32 [==============================] - 1s 46ms/step - loss: 0.6925 - accuracy: 0.8054 - val_loss: 0.4861 - val_accuracy: 0.9087\n",
            "Epoch 4/100\n",
            "32/32 [==============================] - 1s 45ms/step - loss: 0.5587 - accuracy: 0.8487 - val_loss: 0.4620 - val_accuracy: 0.8950\n",
            "Epoch 5/100\n",
            "32/32 [==============================] - 1s 45ms/step - loss: 0.5062 - accuracy: 0.8523 - val_loss: 0.4533 - val_accuracy: 0.8995\n",
            "Epoch 6/100\n",
            "32/32 [==============================] - 1s 45ms/step - loss: 0.4790 - accuracy: 0.8812 - val_loss: 0.4520 - val_accuracy: 0.9041\n",
            "Epoch 7/100\n",
            "32/32 [==============================] - 1s 45ms/step - loss: 0.4663 - accuracy: 0.8896 - val_loss: 0.4693 - val_accuracy: 0.8813\n",
            "Epoch 8/100\n",
            "32/32 [==============================] - 1s 45ms/step - loss: 0.4725 - accuracy: 0.8799 - val_loss: 0.4615 - val_accuracy: 0.8858\n",
            "Epoch 9/100\n",
            "32/32 [==============================] - 1s 44ms/step - loss: 0.4777 - accuracy: 0.8679 - val_loss: 0.4441 - val_accuracy: 0.9041\n",
            "Epoch 10/100\n",
            "32/32 [==============================] - 1s 46ms/step - loss: 0.4561 - accuracy: 0.8800 - val_loss: 0.4296 - val_accuracy: 0.8950\n",
            "Epoch 11/100\n",
            "32/32 [==============================] - 1s 45ms/step - loss: 0.4283 - accuracy: 0.8996 - val_loss: 0.4498 - val_accuracy: 0.8950\n",
            "Epoch 12/100\n",
            "32/32 [==============================] - 1s 44ms/step - loss: 0.4312 - accuracy: 0.8966 - val_loss: 0.4521 - val_accuracy: 0.9087\n",
            "Epoch 13/100\n",
            "32/32 [==============================] - 1s 45ms/step - loss: 0.4735 - accuracy: 0.8805 - val_loss: 0.4240 - val_accuracy: 0.8995\n",
            "Epoch 14/100\n",
            "32/32 [==============================] - 1s 44ms/step - loss: 0.4394 - accuracy: 0.8932 - val_loss: 0.4667 - val_accuracy: 0.8995\n",
            "Epoch 15/100\n",
            "32/32 [==============================] - 1s 46ms/step - loss: 0.4668 - accuracy: 0.8861 - val_loss: 0.4190 - val_accuracy: 0.8904\n",
            "Epoch 16/100\n",
            "32/32 [==============================] - 1s 46ms/step - loss: 0.4280 - accuracy: 0.9028 - val_loss: 0.4298 - val_accuracy: 0.9087\n",
            "Epoch 17/100\n",
            "32/32 [==============================] - 1s 45ms/step - loss: 0.4624 - accuracy: 0.8738 - val_loss: 0.4176 - val_accuracy: 0.8950\n",
            "Epoch 18/100\n",
            "32/32 [==============================] - 1s 45ms/step - loss: 0.4318 - accuracy: 0.8873 - val_loss: 0.4241 - val_accuracy: 0.9087\n",
            "Epoch 19/100\n",
            "32/32 [==============================] - 1s 45ms/step - loss: 0.4800 - accuracy: 0.8683 - val_loss: 0.4399 - val_accuracy: 0.9087\n",
            "Epoch 20/100\n",
            "32/32 [==============================] - 1s 44ms/step - loss: 0.4114 - accuracy: 0.9059 - val_loss: 0.4228 - val_accuracy: 0.9132\n",
            "Epoch 21/100\n",
            "32/32 [==============================] - 1s 45ms/step - loss: 0.4382 - accuracy: 0.8896 - val_loss: 0.4692 - val_accuracy: 0.8721\n",
            "Epoch 22/100\n",
            "32/32 [==============================] - 1s 46ms/step - loss: 0.4569 - accuracy: 0.8496 - val_loss: 0.4144 - val_accuracy: 0.8904\n",
            "Epoch 23/100\n",
            "32/32 [==============================] - 1s 45ms/step - loss: 0.4599 - accuracy: 0.8722 - val_loss: 0.4202 - val_accuracy: 0.9132\n",
            "Epoch 24/100\n",
            "32/32 [==============================] - 1s 44ms/step - loss: 0.4249 - accuracy: 0.9037 - val_loss: 0.4447 - val_accuracy: 0.8995\n",
            "Epoch 25/100\n",
            "32/32 [==============================] - 1s 45ms/step - loss: 0.4379 - accuracy: 0.8927 - val_loss: 0.4130 - val_accuracy: 0.8995\n",
            "Epoch 26/100\n",
            "32/32 [==============================] - 1s 45ms/step - loss: 0.4271 - accuracy: 0.8897 - val_loss: 0.4161 - val_accuracy: 0.9041\n",
            "Epoch 27/100\n",
            "32/32 [==============================] - 1s 45ms/step - loss: 0.4691 - accuracy: 0.8724 - val_loss: 0.4147 - val_accuracy: 0.9087\n",
            "Epoch 28/100\n",
            "32/32 [==============================] - 1s 45ms/step - loss: 0.4166 - accuracy: 0.8874 - val_loss: 0.4183 - val_accuracy: 0.9087\n",
            "Epoch 29/100\n",
            "32/32 [==============================] - 2s 51ms/step - loss: 0.4217 - accuracy: 0.8965 - val_loss: 0.5386 - val_accuracy: 0.8630\n",
            "Epoch 30/100\n",
            "32/32 [==============================] - 2s 49ms/step - loss: 0.4556 - accuracy: 0.8775 - val_loss: 0.4207 - val_accuracy: 0.9087\n",
            "Epoch 31/100\n",
            "32/32 [==============================] - 1s 47ms/step - loss: 0.4238 - accuracy: 0.8932 - val_loss: 0.4134 - val_accuracy: 0.8950\n",
            "Epoch 32/100\n",
            "32/32 [==============================] - 1s 46ms/step - loss: 0.4338 - accuracy: 0.8768 - val_loss: 0.4155 - val_accuracy: 0.9087\n",
            "Epoch 33/100\n",
            "32/32 [==============================] - 1s 44ms/step - loss: 0.4537 - accuracy: 0.8790 - val_loss: 0.4127 - val_accuracy: 0.8995\n",
            "Epoch 34/100\n",
            "32/32 [==============================] - 1s 46ms/step - loss: 0.4254 - accuracy: 0.8939 - val_loss: 0.4513 - val_accuracy: 0.8995\n",
            "Epoch 35/100\n",
            "32/32 [==============================] - 2s 47ms/step - loss: 0.4427 - accuracy: 0.8748 - val_loss: 0.4457 - val_accuracy: 0.9041\n",
            "Epoch 36/100\n",
            "32/32 [==============================] - 1s 46ms/step - loss: 0.4479 - accuracy: 0.8858 - val_loss: 0.4216 - val_accuracy: 0.9132\n",
            "Epoch 37/100\n",
            "32/32 [==============================] - 2s 47ms/step - loss: 0.4583 - accuracy: 0.8842 - val_loss: 0.4144 - val_accuracy: 0.8995\n",
            "Epoch 38/100\n",
            "32/32 [==============================] - 1s 46ms/step - loss: 0.4248 - accuracy: 0.8931 - val_loss: 0.4507 - val_accuracy: 0.8858\n",
            "Epoch 39/100\n",
            "32/32 [==============================] - 2s 48ms/step - loss: 0.4573 - accuracy: 0.8717 - val_loss: 0.4378 - val_accuracy: 0.9087\n",
            "Epoch 40/100\n",
            "32/32 [==============================] - 1s 47ms/step - loss: 0.4388 - accuracy: 0.8950 - val_loss: 0.4138 - val_accuracy: 0.8995\n",
            "Epoch 41/100\n",
            "32/32 [==============================] - 1s 47ms/step - loss: 0.4224 - accuracy: 0.8958 - val_loss: 0.4453 - val_accuracy: 0.9041\n",
            "Epoch 42/100\n",
            "32/32 [==============================] - 1s 45ms/step - loss: 0.4290 - accuracy: 0.8816 - val_loss: 0.4194 - val_accuracy: 0.9087\n",
            "Epoch 43/100\n",
            "32/32 [==============================] - 1s 45ms/step - loss: 0.4285 - accuracy: 0.8971 - val_loss: 0.4272 - val_accuracy: 0.9041\n",
            "Epoch 44/100\n",
            "32/32 [==============================] - 1s 45ms/step - loss: 0.4254 - accuracy: 0.8993 - val_loss: 0.4597 - val_accuracy: 0.8995\n",
            "Epoch 45/100\n",
            "32/32 [==============================] - 1s 45ms/step - loss: 0.4490 - accuracy: 0.8780 - val_loss: 0.4190 - val_accuracy: 0.9041\n",
            "Epoch 46/100\n",
            "32/32 [==============================] - 1s 45ms/step - loss: 0.4557 - accuracy: 0.8635 - val_loss: 0.4195 - val_accuracy: 0.9041\n",
            "Epoch 47/100\n",
            "32/32 [==============================] - 1s 45ms/step - loss: 0.4161 - accuracy: 0.8946 - val_loss: 0.4162 - val_accuracy: 0.9087\n",
            "Epoch 48/100\n",
            "32/32 [==============================] - 1s 45ms/step - loss: 0.4668 - accuracy: 0.8524 - val_loss: 0.4641 - val_accuracy: 0.8904\n",
            "Epoch 49/100\n",
            "32/32 [==============================] - 1s 46ms/step - loss: 0.4392 - accuracy: 0.8836 - val_loss: 0.4236 - val_accuracy: 0.9041\n",
            "Epoch 50/100\n",
            "32/32 [==============================] - 1s 46ms/step - loss: 0.4289 - accuracy: 0.8742 - val_loss: 0.4429 - val_accuracy: 0.9087\n",
            "Epoch 51/100\n",
            "32/32 [==============================] - 1s 45ms/step - loss: 0.4238 - accuracy: 0.9049 - val_loss: 0.4300 - val_accuracy: 0.9087\n",
            "Epoch 52/100\n",
            "32/32 [==============================] - 1s 45ms/step - loss: 0.4452 - accuracy: 0.8968 - val_loss: 0.4129 - val_accuracy: 0.9087\n",
            "Epoch 53/100\n",
            "32/32 [==============================] - 1s 45ms/step - loss: 0.4497 - accuracy: 0.8740 - val_loss: 0.4316 - val_accuracy: 0.9132\n",
            "Epoch 54/100\n",
            "32/32 [==============================] - 1s 46ms/step - loss: 0.4024 - accuracy: 0.8910 - val_loss: 0.4188 - val_accuracy: 0.9132\n",
            "Epoch 55/100\n",
            "32/32 [==============================] - 1s 45ms/step - loss: 0.3983 - accuracy: 0.9005 - val_loss: 0.4854 - val_accuracy: 0.8813\n",
            "Epoch 56/100\n",
            "32/32 [==============================] - 1s 45ms/step - loss: 0.4500 - accuracy: 0.8703 - val_loss: 0.4177 - val_accuracy: 0.9041\n",
            "Epoch 57/100\n",
            "32/32 [==============================] - 1s 44ms/step - loss: 0.4295 - accuracy: 0.8840 - val_loss: 0.4197 - val_accuracy: 0.9132\n",
            "Epoch 58/100\n",
            "32/32 [==============================] - 1s 46ms/step - loss: 0.4271 - accuracy: 0.9014 - val_loss: 0.4603 - val_accuracy: 0.8950\n",
            "Epoch 59/100\n",
            "32/32 [==============================] - 1s 45ms/step - loss: 0.4493 - accuracy: 0.8756 - val_loss: 0.4135 - val_accuracy: 0.8995\n",
            "Epoch 60/100\n",
            "32/32 [==============================] - 1s 46ms/step - loss: 0.4260 - accuracy: 0.8950 - val_loss: 0.4374 - val_accuracy: 0.9087\n",
            "Epoch 61/100\n",
            "32/32 [==============================] - 1s 45ms/step - loss: 0.4416 - accuracy: 0.8771 - val_loss: 0.4320 - val_accuracy: 0.9087\n",
            "Epoch 62/100\n",
            "32/32 [==============================] - 1s 45ms/step - loss: 0.4122 - accuracy: 0.8909 - val_loss: 0.4170 - val_accuracy: 0.9041\n",
            "Epoch 63/100\n",
            "32/32 [==============================] - 1s 45ms/step - loss: 0.4310 - accuracy: 0.8896 - val_loss: 0.4120 - val_accuracy: 0.9087\n",
            "Epoch 64/100\n",
            "32/32 [==============================] - 1s 46ms/step - loss: 0.4398 - accuracy: 0.8746 - val_loss: 0.4170 - val_accuracy: 0.9041\n",
            "Epoch 65/100\n",
            "32/32 [==============================] - 1s 46ms/step - loss: 0.4191 - accuracy: 0.8893 - val_loss: 0.4523 - val_accuracy: 0.8995\n",
            "Epoch 66/100\n",
            "32/32 [==============================] - 1s 45ms/step - loss: 0.4003 - accuracy: 0.9224 - val_loss: 0.4222 - val_accuracy: 0.8995\n",
            "Epoch 67/100\n",
            "32/32 [==============================] - 1s 46ms/step - loss: 0.4170 - accuracy: 0.8911 - val_loss: 0.4166 - val_accuracy: 0.8995\n",
            "Epoch 68/100\n",
            "32/32 [==============================] - 1s 47ms/step - loss: 0.4134 - accuracy: 0.9054 - val_loss: 0.4193 - val_accuracy: 0.9087\n",
            "Epoch 69/100\n",
            "32/32 [==============================] - 2s 48ms/step - loss: 0.4560 - accuracy: 0.8698 - val_loss: 0.4317 - val_accuracy: 0.9132\n",
            "Epoch 70/100\n",
            "32/32 [==============================] - 2s 47ms/step - loss: 0.4493 - accuracy: 0.8716 - val_loss: 0.4392 - val_accuracy: 0.9041\n",
            "Epoch 71/100\n",
            "32/32 [==============================] - 2s 47ms/step - loss: 0.4245 - accuracy: 0.8902 - val_loss: 0.4106 - val_accuracy: 0.9087\n",
            "Epoch 72/100\n",
            "32/32 [==============================] - 1s 45ms/step - loss: 0.4458 - accuracy: 0.8843 - val_loss: 0.4352 - val_accuracy: 0.9087\n",
            "Epoch 73/100\n",
            "32/32 [==============================] - 1s 45ms/step - loss: 0.4596 - accuracy: 0.8742 - val_loss: 0.4226 - val_accuracy: 0.9041\n",
            "Epoch 74/100\n",
            "32/32 [==============================] - 1s 44ms/step - loss: 0.4281 - accuracy: 0.8918 - val_loss: 0.4194 - val_accuracy: 0.9087\n",
            "Epoch 75/100\n",
            "32/32 [==============================] - 1s 47ms/step - loss: 0.4433 - accuracy: 0.8704 - val_loss: 0.4122 - val_accuracy: 0.9041\n",
            "Epoch 76/100\n",
            "32/32 [==============================] - 1s 45ms/step - loss: 0.4309 - accuracy: 0.8901 - val_loss: 0.4125 - val_accuracy: 0.8995\n",
            "Epoch 77/100\n",
            "32/32 [==============================] - 1s 45ms/step - loss: 0.4145 - accuracy: 0.8992 - val_loss: 0.4132 - val_accuracy: 0.8995\n",
            "Epoch 78/100\n",
            "32/32 [==============================] - 1s 45ms/step - loss: 0.4323 - accuracy: 0.8815 - val_loss: 0.4561 - val_accuracy: 0.8950\n",
            "Epoch 79/100\n",
            "32/32 [==============================] - 1s 45ms/step - loss: 0.4315 - accuracy: 0.8726 - val_loss: 0.4311 - val_accuracy: 0.9041\n",
            "Epoch 80/100\n",
            "32/32 [==============================] - 1s 46ms/step - loss: 0.4256 - accuracy: 0.8901 - val_loss: 0.4168 - val_accuracy: 0.9132\n",
            "Epoch 81/100\n",
            "32/32 [==============================] - 1s 47ms/step - loss: 0.4002 - accuracy: 0.9062 - val_loss: 0.4242 - val_accuracy: 0.9087\n",
            "Epoch 82/100\n",
            "32/32 [==============================] - 1s 47ms/step - loss: 0.4203 - accuracy: 0.8777 - val_loss: 0.4468 - val_accuracy: 0.9087\n",
            "Epoch 83/100\n",
            "32/32 [==============================] - 1s 46ms/step - loss: 0.4217 - accuracy: 0.8932 - val_loss: 0.4218 - val_accuracy: 0.9132\n",
            "Epoch 84/100\n",
            "32/32 [==============================] - 1s 46ms/step - loss: 0.4480 - accuracy: 0.8618 - val_loss: 0.4209 - val_accuracy: 0.9132\n",
            "Epoch 85/100\n",
            "32/32 [==============================] - 1s 47ms/step - loss: 0.3962 - accuracy: 0.9138 - val_loss: 0.4259 - val_accuracy: 0.9132\n",
            "Epoch 86/100\n",
            "32/32 [==============================] - 1s 47ms/step - loss: 0.4292 - accuracy: 0.8795 - val_loss: 0.4119 - val_accuracy: 0.8950\n",
            "Epoch 87/100\n",
            "32/32 [==============================] - 1s 45ms/step - loss: 0.4125 - accuracy: 0.8902 - val_loss: 0.4195 - val_accuracy: 0.9132\n",
            "Epoch 88/100\n",
            "32/32 [==============================] - 1s 46ms/step - loss: 0.4340 - accuracy: 0.8856 - val_loss: 0.4315 - val_accuracy: 0.9041\n",
            "Epoch 89/100\n",
            "32/32 [==============================] - 1s 46ms/step - loss: 0.4692 - accuracy: 0.8596 - val_loss: 0.4151 - val_accuracy: 0.8995\n",
            "Epoch 90/100\n",
            "32/32 [==============================] - 1s 45ms/step - loss: 0.4461 - accuracy: 0.8755 - val_loss: 0.4986 - val_accuracy: 0.8858\n",
            "Epoch 91/100\n",
            "32/32 [==============================] - 1s 45ms/step - loss: 0.4651 - accuracy: 0.8667 - val_loss: 0.4362 - val_accuracy: 0.9041\n",
            "Epoch 92/100\n",
            "32/32 [==============================] - 1s 47ms/step - loss: 0.4056 - accuracy: 0.9036 - val_loss: 0.4480 - val_accuracy: 0.8995\n",
            "Epoch 93/100\n",
            "32/32 [==============================] - 1s 45ms/step - loss: 0.4372 - accuracy: 0.8796 - val_loss: 0.5120 - val_accuracy: 0.8676\n",
            "Epoch 94/100\n",
            "32/32 [==============================] - 1s 45ms/step - loss: 0.4304 - accuracy: 0.8874 - val_loss: 0.4652 - val_accuracy: 0.8904\n",
            "Epoch 95/100\n",
            "32/32 [==============================] - 1s 46ms/step - loss: 0.4554 - accuracy: 0.8752 - val_loss: 0.4131 - val_accuracy: 0.9087\n",
            "Epoch 96/100\n",
            "32/32 [==============================] - 1s 46ms/step - loss: 0.4300 - accuracy: 0.8791 - val_loss: 0.4203 - val_accuracy: 0.9087\n",
            "Epoch 97/100\n",
            "32/32 [==============================] - 1s 45ms/step - loss: 0.4538 - accuracy: 0.8672 - val_loss: 0.4904 - val_accuracy: 0.8539\n",
            "Epoch 98/100\n",
            "32/32 [==============================] - 1s 45ms/step - loss: 0.4795 - accuracy: 0.8514 - val_loss: 0.4197 - val_accuracy: 0.9087\n",
            "Epoch 99/100\n",
            "32/32 [==============================] - 1s 46ms/step - loss: 0.4212 - accuracy: 0.8877 - val_loss: 0.4584 - val_accuracy: 0.8950\n",
            "Epoch 100/100\n",
            "32/32 [==============================] - 1s 45ms/step - loss: 0.4376 - accuracy: 0.8826 - val_loss: 0.4092 - val_accuracy: 0.9132\n"
          ],
          "name": "stdout"
        }
      ]
    },
    {
      "cell_type": "code",
      "metadata": {
        "colab": {
          "base_uri": "https://localhost:8080/",
          "height": 295
        },
        "id": "myPycxllpD-u",
        "outputId": "a368b471-82fa-47cc-ffae-8bcb05ad7a41"
      },
      "source": [
        "plt.plot(hist_3.history['loss'])\n",
        "plt.plot(hist_3.history['val_loss'])\n",
        "plt.title('Model loss')\n",
        "plt.ylabel('Loss')\n",
        "plt.xlabel('Epoch')\n",
        "plt.legend(['Train', 'Val'], loc='upper right')\n",
        "plt.ylim(top=1.2, bottom=0)\n",
        "plt.show()"
      ],
      "execution_count": 37,
      "outputs": [
        {
          "output_type": "display_data",
          "data": {
            "image/png": "[encoded data removed]",
            "text/plain": [
              "<Figure size 432x288 with 1 Axes>"
            ]
          },
          "metadata": {
            "tags": [],
            "needs_background": "light"
          }
        }
      ]
    },
    {
      "cell_type": "code",
      "metadata": {
        "colab": {
          "base_uri": "https://localhost:8080/",
          "height": 295
        },
        "id": "eAcMOpYuqB9O",
        "outputId": "c67fdf3a-8846-4a21-ec8d-6c027070dca2"
      },
      "source": [
        "plt.plot(hist_3.history['accuracy'])\n",
        "plt.plot(hist_3.history['val_accuracy'])\n",
        "plt.title('Model accuracy')\n",
        "plt.ylabel('Accuracy')\n",
        "plt.xlabel('Epoch')\n",
        "plt.legend(['Train', 'Val'], loc='lower right')\n",
        "plt.show()"
      ],
      "execution_count": 40,
      "outputs": [
        {
          "output_type": "display_data",
          "data": {
            "image/png": "[encoded data removed]",
            "text/plain": [
              "<Figure size 432x288 with 1 Axes>"
            ]
          },
          "metadata": {
            "tags": [],
            "needs_background": "light"
          }
        }
      ]
    },
    {
      "cell_type": "code",
      "metadata": {
        "id": "U3fXRu06qD8f"
      },
      "source": [
        ""
      ],
      "execution_count": null,
      "outputs": []
    }
  ]
}